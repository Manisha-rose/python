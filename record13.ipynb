{
 "cells": [
  {
   "cell_type": "code",
   "execution_count": 9,
   "id": "0d98e4f3-a72e-40e2-9d85-a6606aa2a939",
   "metadata": {},
   "outputs": [
    {
     "name": "stdin",
     "output_type": "stream",
     "text": [
      "enter a list of words: apple bus cat\n"
     ]
    },
    {
     "name": "stdout",
     "output_type": "stream",
     "text": [
      "length of longest word: 5\n"
     ]
    }
   ],
   "source": [
    "#program to accept a list of words and return length of longest word.\n",
    "def long(words):\n",
    "    return max(len(word) for word in words)\n",
    "words=input(\"enter a list of words:\").split()\n",
    "print(\"length of longest word:\",long(words))\n"
   ]
  },
  {
   "cell_type": "code",
   "execution_count": 22,
   "id": "a000e778-3689-438f-954d-9b64cec1978e",
   "metadata": {},
   "outputs": [
    {
     "name": "stdout",
     "output_type": "stream",
     "text": [
      "* \n",
      "* * \n",
      "* * * \n",
      "* * * * \n",
      "* * * * * \n",
      "* * * * \n",
      "* * * \n",
      "* * \n",
      "* \n"
     ]
    }
   ],
   "source": [
    "#program to Construct a pattern using nested loop \n",
    "def pattern(n):\n",
    "  for i in range(1, n+1):\n",
    "    for j in range(1, i+1):\n",
    "       print(\"*\",end=\" \")\n",
    "    print()\n",
    "  for i in range(n-1,0,-1):\n",
    "      for j in range(1, i+1):\n",
    "        print(\"*\",end=\" \")\n",
    "      print()\n",
    "pattern(5)\n"
   ]
  },
  {
   "cell_type": "code",
   "execution_count": 11,
   "id": "05c5bbe7-3477-4b40-95d8-91ecb0313374",
   "metadata": {},
   "outputs": [
    {
     "name": "stdin",
     "output_type": "stream",
     "text": [
      "Enter a number:  9\n"
     ]
    },
    {
     "name": "stdout",
     "output_type": "stream",
     "text": [
      "Factors of 9 are:\n",
      "1\n",
      "3\n",
      "9\n"
     ]
    }
   ],
   "source": [
    "#program to Generate all factors of a number.\n",
    "def factors(n):\n",
    "    print(\"Factors of\",n,\"are:\")\n",
    "    for i in range(1,n+1):\n",
    "        if n%i==0:\n",
    "            print(i)\n",
    "n = int(input(\"Enter a number: \"))\n",
    "factors(n)"
   ]
  },
  {
   "cell_type": "code",
   "execution_count": 21,
   "id": "79c6aad2-f69f-48a4-a667-a601fd4a9e09",
   "metadata": {},
   "outputs": [
    {
     "name": "stdout",
     "output_type": "stream",
     "text": [
      "Area of square: 9\n",
      "Area of rectangle: 8\n",
      "Area of triangle: 15.0\n"
     ]
    }
   ],
   "source": [
    "#program to write lambda functions to find area of square, rectangle and triangle.\n",
    "square = lambda s:s*s\n",
    "rectanglearea=lambda l,b:l*b\n",
    "trianglearea=lambda base,h:0.5*base*h\n",
    "\n",
    "print(\"Area of square:\",square(3))\n",
    "print(\"Area of rectangle:\",rectanglearea(4,2))\n",
    "print(\"Area of triangle:\",trianglearea(5,6))"
   ]
  },
  {
   "cell_type": "code",
   "execution_count": null,
   "id": "83304946-a81e-4ec3-adb4-391de7841888",
   "metadata": {},
   "outputs": [],
   "source": []
  }
 ],
 "metadata": {
  "kernelspec": {
   "display_name": "Python 3 (ipykernel)",
   "language": "python",
   "name": "python3"
  },
  "language_info": {
   "codemirror_mode": {
    "name": "ipython",
    "version": 3
   },
   "file_extension": ".py",
   "mimetype": "text/x-python",
   "name": "python",
   "nbconvert_exporter": "python",
   "pygments_lexer": "ipython3",
   "version": "3.11.5"
  }
 },
 "nbformat": 4,
 "nbformat_minor": 5
}
