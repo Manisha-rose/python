{
 "cells": [
  {
   "cell_type": "code",
   "execution_count": 11,
   "id": "0c9d74f9-3221-452b-acdb-68dde8a77953",
   "metadata": {},
   "outputs": [
    {
     "name": "stdin",
     "output_type": "stream",
     "text": [
      "enter colors:  green,blue,yellow,violet\n",
      "enter colors:  blue,red,grey\n"
     ]
    },
    {
     "name": "stdout",
     "output_type": "stream",
     "text": [
      "set1: {'blue', 'yellow', 'green', 'violet'}\n",
      "set2: {'red', 'grey', 'blue'}\n",
      " set1 not contained in set2: {'yellow', 'green', 'violet'}\n"
     ]
    }
   ],
   "source": [
    "#program to print all color from set 1 not contained in set 2\n",
    "set1=input(\"enter colors: \")\n",
    "set2=input(\"enter colors: \")\n",
    "new=set(set1.split(','))\n",
    "neww=set(set2.split(','))\n",
    "news=new-neww\n",
    "print(\"set1:\",new)\n",
    "print(\"set2:\",neww)\n",
    "print(\" set1 not contained in set2:\",news)"
   ]
  },
  {
   "cell_type": "code",
   "execution_count": 10,
   "id": "06bc1468-9bd2-4115-851e-f4e5ff8345f9",
   "metadata": {},
   "outputs": [
    {
     "name": "stdin",
     "output_type": "stream",
     "text": [
      "enter colors: blue,yellow,green\n",
      "enter colors: violet,grey\n"
     ]
    },
    {
     "name": "stdout",
     "output_type": "stream",
     "text": [
      "set1: {'green', 'yellow', 'blue'}\n",
      "set2: {'grey', 'violet'}\n",
      "combined set: {'violet', 'grey', 'blue', 'yellow', 'green'}\n"
     ]
    }
   ],
   "source": [
    "#program to printout all colors from color set 1 and color set2.\n",
    "set1=input(\"enter colors:\")\n",
    "set2=input(\"enter colors:\")\n",
    "new=set(set1.split(','))\n",
    "neww=set(set2.split(','))\n",
    "newset=new|neww\n",
    "print(\"set1:\",new)\n",
    "print(\"set2:\",neww)\n",
    "print(\"combined set:\",newset)"
   ]
  },
  {
   "cell_type": "code",
   "execution_count": null,
   "id": "0844a439-9e51-4895-864c-46bf6617c8ff",
   "metadata": {},
   "outputs": [],
   "source": []
  }
 ],
 "metadata": {
  "kernelspec": {
   "display_name": "Python 3 (ipykernel)",
   "language": "python",
   "name": "python3"
  },
  "language_info": {
   "codemirror_mode": {
    "name": "ipython",
    "version": 3
   },
   "file_extension": ".py",
   "mimetype": "text/x-python",
   "name": "python",
   "nbconvert_exporter": "python",
   "pygments_lexer": "ipython3",
   "version": "3.11.5"
  }
 },
 "nbformat": 4,
 "nbformat_minor": 5
}
