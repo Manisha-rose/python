{
 "cells": [
  {
   "cell_type": "code",
   "execution_count": 8,
   "id": "180fa164-5be1-4e4a-b9f1-7438bc58de0b",
   "metadata": {},
   "outputs": [
    {
     "name": "stdout",
     "output_type": "stream",
     "text": [
      "range of even numbers: [2, 4, 6, 8, 10, 12, 14, 16, 18, 20, 22, 24]\n",
      "sum: 156\n"
     ]
    }
   ],
   "source": [
    "#program to print even numbers from 1 to 25\n",
    "r=range(2,26,2)\n",
    "print(\"range of even numbers:\",list(r))\n",
    "print(\"sum:\",sum(r))"
   ]
  },
  {
   "cell_type": "code",
   "execution_count": 6,
   "id": "fec3522a-3ba4-4c8c-a64c-250e922a44bf",
   "metadata": {},
   "outputs": [
    {
     "name": "stdin",
     "output_type": "stream",
     "text": [
      "enter range:  10\n"
     ]
    },
    {
     "name": "stdout",
     "output_type": "stream",
     "text": [
      "reverse order is: [10, 9, 8, 7, 6, 5, 4, 3, 2, 1]\n",
      "sum of reverse order is: 55\n"
     ]
    }
   ],
   "source": [
    "#program to print all in reverse order and calculate their sum\n",
    "n=int(input(\"enter range: \"))\n",
    "nn=list(range(n,0,-1))\n",
    "nnn=sum(range(n,0,-1))\n",
    "print(\"reverse order is:\",nn)\n",
    "print(\"sum of reverse order is:\",nnn)"
   ]
  },
  {
   "cell_type": "code",
   "execution_count": null,
   "id": "14ceb396-7a8a-49a4-bca6-fe20b876b408",
   "metadata": {},
   "outputs": [],
   "source": []
  },
  {
   "cell_type": "code",
   "execution_count": null,
   "id": "f8794ef6-8bbe-45b0-a8ed-22df1d57b4bd",
   "metadata": {},
   "outputs": [],
   "source": []
  }
 ],
 "metadata": {
  "kernelspec": {
   "display_name": "Python 3 (ipykernel)",
   "language": "python",
   "name": "python3"
  },
  "language_info": {
   "codemirror_mode": {
    "name": "ipython",
    "version": 3
   },
   "file_extension": ".py",
   "mimetype": "text/x-python",
   "name": "python",
   "nbconvert_exporter": "python",
   "pygments_lexer": "ipython3",
   "version": "3.11.5"
  }
 },
 "nbformat": 4,
 "nbformat_minor": 5
}
