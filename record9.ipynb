{
 "cells": [
  {
   "cell_type": "code",
   "execution_count": 21,
   "id": "5c175e13-ee3d-45d4-85de-96b21de368f4",
   "metadata": {},
   "outputs": [
    {
     "name": "stdin",
     "output_type": "stream",
     "text": [
      "Enter 5 students name (space separated):  mia lia riya tina roopa\n",
      "Enter roll numbers (space separated):  1 2 3 4 5\n"
     ]
    },
    {
     "name": "stdout",
     "output_type": "stream",
     "text": [
      "dictionary: {'1': 'mia', '2': 'lia', '3': 'riya', '4': 'tina', '5': 'roopa'}\n",
      "ascending order: {'1': 'mia', '2': 'lia', '3': 'riya', '4': 'tina', '5': 'roopa'}\n",
      "descending order: {'5': 'roopa', '4': 'tina', '3': 'riya', '2': 'lia', '1': 'mia'}\n"
     ]
    }
   ],
   "source": [
    "# program to accept 5 students name and roll number\n",
    "value= input(\"Enter 5 students name (space separated): \").split()\n",
    "key= input(\"Enter roll numbers (space separated): \").split()\n",
    "students = dict(zip(key,value))\n",
    "print(\"dictionary:\",students)\n",
    "print(\"ascending order:\",dict(sorted(students.items())))\n",
    "print(\"descending order:\",dict(sorted(students.items(),reverse=-1)))"
   ]
  },
  {
   "cell_type": "code",
   "execution_count": 25,
   "id": "ca76fa7f-1be6-4c86-bfdf-afff9d851a48",
   "metadata": {},
   "outputs": [
    {
     "name": "stdin",
     "output_type": "stream",
     "text": [
      "Enter 3 students name (space separated):  lia kia jia\n",
      "Enter roll number (space separated):  1 2 3\n"
     ]
    },
    {
     "name": "stdout",
     "output_type": "stream",
     "text": [
      "dictionary 1 : {'1': 'lia', '2': 'kia', '3': 'jia'}\n"
     ]
    },
    {
     "name": "stdin",
     "output_type": "stream",
     "text": [
      "Enter 2 students name (space separated):  hira kira\n",
      "Enter roll number (space separated):  4 5\n"
     ]
    },
    {
     "name": "stdout",
     "output_type": "stream",
     "text": [
      "dictionary 2: {'4': 'hira', '5': 'kira'}\n",
      "merged dictionary: {'1': 'lia', '2': 'kia', '3': 'jia', '4': 'hira', '5': 'kira'}\n"
     ]
    }
   ],
   "source": [
    "#python program to accept 2 dictionaries and merge\n",
    "values = input(\"Enter 3 students name (space separated): \").split()\n",
    "keys = input(\"Enter roll number (space separated): \").split()\n",
    "dic1= dict(zip(keys,values))\n",
    "print(\"dictionary 1 :\",dic1)\n",
    "values = input(\"Enter 2 students name (space separated): \").split()\n",
    "keys = input(\"Enter roll number (space separated): \").split()\n",
    "dic2=dict(zip(keys,values))\n",
    "print(\"dictionary 2:\",dic2)\n",
    "dic1.update(dic2)\n",
    "print(\"merged dictionary:\",dic1)\n"
   ]
  },
  {
   "cell_type": "code",
   "execution_count": null,
   "id": "1dab1084-f273-48bc-b8d8-a7aceee904e1",
   "metadata": {},
   "outputs": [],
   "source": []
  }
 ],
 "metadata": {
  "kernelspec": {
   "display_name": "Python 3 (ipykernel)",
   "language": "python",
   "name": "python3"
  },
  "language_info": {
   "codemirror_mode": {
    "name": "ipython",
    "version": 3
   },
   "file_extension": ".py",
   "mimetype": "text/x-python",
   "name": "python",
   "nbconvert_exporter": "python",
   "pygments_lexer": "ipython3",
   "version": "3.11.5"
  }
 },
 "nbformat": 4,
 "nbformat_minor": 5
}
