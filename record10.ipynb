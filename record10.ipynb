{
 "cells": [
  {
   "cell_type": "code",
   "execution_count": 6,
   "id": "c1305cba-f901-44ca-a69e-3d5c2e975018",
   "metadata": {},
   "outputs": [
    {
     "name": "stdin",
     "output_type": "stream",
     "text": [
      "enter list1 numbers: 2 3 45 12\n",
      "enter list2 numbers: 1 2 3 45 26\n"
     ]
    },
    {
     "name": "stdout",
     "output_type": "stream",
     "text": [
      "list1: [2, 3, 45, 12]\n",
      "list2: [1, 2, 3, 45, 26]\n",
      "lists have different length\n",
      "lists sum are different\n",
      "common values: {2, 3, 45}\n"
     ]
    }
   ],
   "source": [
    "#program to enter 2 lists of integers compare length sum and find common values\n",
    "a=list(map(int,input(\"enter list1 numbers:\").split()))\n",
    "b=list(map(int,input(\"enter list2 numbers:\").split()))\n",
    "print(\"list1:\",a)\n",
    "print(\"list2:\",b)\n",
    "\n",
    "if len(a)==len(b):\n",
    "    print(\"lists have same length\")\n",
    "else:\n",
    "    print(\"lists have different length\")\n",
    "\n",
    "if sum(a)==sum(b):\n",
    "    print(\"lists sum are same\")\n",
    "else:\n",
    "    print(\"lists sum are different\")\n",
    "\n",
    "common=set(a)&set(b)\n",
    "if common:\n",
    "    print(\"common values:\",common)\n",
    "else:\n",
    "    print(\"no common values\")\n"
   ]
  },
  {
   "cell_type": "code",
   "execution_count": 14,
   "id": "fb11afa1-04db-45ae-9ae1-cbfd6921fe12",
   "metadata": {},
   "outputs": [
    {
     "name": "stdin",
     "output_type": "stream",
     "text": [
      "enter a string: walking\n"
     ]
    },
    {
     "name": "stdout",
     "output_type": "stream",
     "text": [
      "new string: walkingly\n"
     ]
    }
   ],
   "source": [
    "#program to add ing or ly to a string\n",
    "a=input(\"enter a string:\")\n",
    "if a.endswith(\"ing\"):\n",
    "   a+=\"ly\"\n",
    "else:\n",
    "    a+=\"ing\"\n",
    "print(\"new string:\",a)\n"
   ]
  },
  {
   "cell_type": "code",
   "execution_count": null,
   "id": "de6fbd10-82bc-4b2c-af04-540a685775f6",
   "metadata": {},
   "outputs": [],
   "source": []
  }
 ],
 "metadata": {
  "kernelspec": {
   "display_name": "Python 3 (ipykernel)",
   "language": "python",
   "name": "python3"
  },
  "language_info": {
   "codemirror_mode": {
    "name": "ipython",
    "version": 3
   },
   "file_extension": ".py",
   "mimetype": "text/x-python",
   "name": "python",
   "nbconvert_exporter": "python",
   "pygments_lexer": "ipython3",
   "version": "3.11.5"
  }
 },
 "nbformat": 4,
 "nbformat_minor": 5
}
