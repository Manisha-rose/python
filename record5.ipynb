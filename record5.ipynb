{
 "cells": [
  {
   "cell_type": "code",
   "execution_count": 6,
   "id": "ebc6e7e0-94a4-4b9a-9199-b607c0716280",
   "metadata": {},
   "outputs": [
    {
     "name": "stdin",
     "output_type": "stream",
     "text": [
      "enter some colors: red,blue,green\n"
     ]
    },
    {
     "name": "stdout",
     "output_type": "stream",
     "text": [
      "first color: red\n",
      "last color: green\n"
     ]
    }
   ],
   "source": [
    "#program to create a list of colors separated by commas,display first and last colors\n",
    "color=input(\"enter some colors:\")\n",
    "seq=color.split(',')\n",
    "print(\"first color:\",seq[0])\n",
    "print(\"last color:\",seq[-1])"
   ]
  },
  {
   "cell_type": "code",
   "execution_count": 2,
   "id": "cfbb75ae-cf35-4a06-a0e9-0489fee078f8",
   "metadata": {},
   "outputs": [
    {
     "name": "stdin",
     "output_type": "stream",
     "text": [
      "enter a filename: abc.py\n"
     ]
    },
    {
     "name": "stdout",
     "output_type": "stream",
     "text": [
      "extension: py\n"
     ]
    }
   ],
   "source": [
    "#program to accept a filename from the user,print extension of that\n",
    "name=input(\"enter a filename:\")\n",
    "new=name.split('.')\n",
    "print(\"extension:\",new[-1])"
   ]
  },
  {
   "cell_type": "code",
   "execution_count": 9,
   "id": "421c4b74-a00f-48cf-9d2f-5589e0ca83a2",
   "metadata": {},
   "outputs": [
    {
     "name": "stdin",
     "output_type": "stream",
     "text": [
      "enter a sequence of numbers: 3,1,2,3\n"
     ]
    },
    {
     "name": "stdout",
     "output_type": "stream",
     "text": [
      "list is: [3, 1, 2, 3]\n",
      "sum of numbers: 9\n"
     ]
    }
   ],
   "source": [
    "#program to accept a sequence of numbers with comma and create a list and find sum\n",
    "num=input(\"enter a sequence of numbers:\")\n",
    "newno=list(map(int,num.split(',')))\n",
    "print(\"list is:\",newno)\n",
    "print(\"sum of numbers:\",sum(newno))\n",
    "\n"
   ]
  },
  {
   "cell_type": "code",
   "execution_count": null,
   "id": "c3dc6f29-dbb7-414b-be1c-eb79fd873abb",
   "metadata": {},
   "outputs": [],
   "source": []
  }
 ],
 "metadata": {
  "kernelspec": {
   "display_name": "Python 3 (ipykernel)",
   "language": "python",
   "name": "python3"
  },
  "language_info": {
   "codemirror_mode": {
    "name": "ipython",
    "version": 3
   },
   "file_extension": ".py",
   "mimetype": "text/x-python",
   "name": "python",
   "nbconvert_exporter": "python",
   "pygments_lexer": "ipython3",
   "version": "3.11.5"
  }
 },
 "nbformat": 4,
 "nbformat_minor": 5
}
