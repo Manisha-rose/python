{
 "cells": [
  {
   "cell_type": "code",
   "execution_count": null,
   "id": "fdd88400-e598-4cf9-bd0c-a6324ac150e3",
   "metadata": {},
   "outputs": [
    {
     "name": "stdin",
     "output_type": "stream",
     "text": [
      "Enter name: manisha\n",
      "Enter account number: 298763\n",
      "Enter account type(Savings/Current): current\n",
      "Enter initial account balance: 1000\n"
     ]
    },
    {
     "name": "stdout",
     "output_type": "stream",
     "text": [
      "\n",
      " BANK MENU\n",
      "\n",
      "1.Deposit\n",
      "\n",
      "2.Withdraw\n",
      "\n",
      "3.Account info display\n",
      "\n",
      "4.Exit\n"
     ]
    },
    {
     "name": "stdin",
     "output_type": "stream",
     "text": [
      "Enter your option(1-4): 3\n"
     ]
    },
    {
     "name": "stdout",
     "output_type": "stream",
     "text": [
      "\n",
      " --Account information--\n",
      "Account holder name: manisha\n",
      "Account number: 298763\n",
      "Account type: current\n",
      "Account balance: 1000\n",
      "\n",
      " BANK MENU\n",
      "\n",
      "1.Deposit\n",
      "\n",
      "2.Withdraw\n",
      "\n",
      "3.Account info display\n",
      "\n",
      "4.Exit\n"
     ]
    },
    {
     "name": "stdin",
     "output_type": "stream",
     "text": [
      "Enter your option(1-4): 2\n",
      "Withdraw amount: 2000\n"
     ]
    },
    {
     "name": "stdout",
     "output_type": "stream",
     "text": [
      "Initial balance 1000\n",
      "Insufficient balance!!\n",
      "Current balance: 1000\n",
      "\n",
      " BANK MENU\n",
      "\n",
      "1.Deposit\n",
      "\n",
      "2.Withdraw\n",
      "\n",
      "3.Account info display\n",
      "\n",
      "4.Exit\n"
     ]
    },
    {
     "name": "stdin",
     "output_type": "stream",
     "text": [
      "Enter your option(1-4): 1\n",
      "Enter amount to deposit: 1000\n"
     ]
    },
    {
     "name": "stdout",
     "output_type": "stream",
     "text": [
      "Initial balance: 1000\n",
      "1000 is deposited\n",
      "Current balance: 2000\n",
      "\n",
      " BANK MENU\n",
      "\n",
      "1.Deposit\n",
      "\n",
      "2.Withdraw\n",
      "\n",
      "3.Account info display\n",
      "\n",
      "4.Exit\n"
     ]
    },
    {
     "name": "stdin",
     "output_type": "stream",
     "text": [
      "Enter your option(1-4): 3\n"
     ]
    },
    {
     "name": "stdout",
     "output_type": "stream",
     "text": [
      "\n",
      " --Account information--\n",
      "Account holder name: manisha\n",
      "Account number: 298763\n",
      "Account type: current\n",
      "Account balance: 2000\n",
      "\n",
      " BANK MENU\n",
      "\n",
      "1.Deposit\n",
      "\n",
      "2.Withdraw\n",
      "\n",
      "3.Account info display\n",
      "\n",
      "4.Exit\n"
     ]
    }
   ],
   "source": [
    "#Create a Bank account\n",
    "class bankaccount:\n",
    "    def __init__(self,name,accno,acctype,accbal):\n",
    "      self.name=name\n",
    "      self.accno=accno\n",
    "      self.acctype=acctype\n",
    "      self.accbal=accbal\n",
    "    def deposit(self,deposit):\n",
    "      print(\"Initial balance:\",self.accbal)\n",
    "      self.accbal+=deposit\n",
    "      print(deposit,\"is deposited\")\n",
    "      print(\"Current balance:\",self.accbal)\n",
    "    def withdraw(self):\n",
    "      self.amount=int(input(\"Withdraw amount:\"))\n",
    "      print(\"Initial balance\",self.accbal)\n",
    "      if self.amount>self.accbal:\n",
    "          print(\"Insufficient balance!!\")\n",
    "          print(\"Current balance:\",self.accbal)\n",
    "      else:\n",
    "          print(self.amount,\"is withdrawn\")\n",
    "          self.accbal-=self.amount\n",
    "          print(\"Current balance:\",self.accbal)\n",
    "    def accinfo(self):\n",
    "      print(\"\\n --Account information--\")\n",
    "      print(\"Account holder name:\",self.name)\n",
    "      print(\"Account number:\",self.accno)\n",
    "      print(\"Account type:\",self.acctype)\n",
    "      print(\"Account balance:\",self.accbal)\n",
    "    \n",
    "\n",
    "\n",
    "\n",
    "name=input(\"Enter name:\")\n",
    "accno=int(input(\"Enter account number:\"))  \n",
    "acctype=(input(\"Enter account type(Savings/Current):\"))\n",
    "accbal=int(input(\"Enter initial account balance:\"))\n",
    "\n",
    "account=bankaccount(name,accno,acctype,accbal)\n",
    "while True:\n",
    "  print(\"\\n BANK MENU\")\n",
    "  print(\"\\n1.Deposit\")\n",
    "  print(\"\\n2.Withdraw\")\n",
    "  print(\"\\n3.Account info display\")\n",
    "  print(\"\\n4.Exit\")\n",
    "  option=int(input(\"Enter your option(1-4):\"))\n",
    "\n",
    "  if option==1:\n",
    "    dep=int(input(\"Enter amount to deposit:\"))\n",
    "    account.deposit(dep)\n",
    "  elif option==2:\n",
    "    account.withdraw()\n",
    "  elif option==3:\n",
    "    account.accinfo()\n",
    "  elif option==4:\n",
    "    print(\"\\nThank you for banking with us!!!\")\n",
    "    break\n",
    "  else:\n",
    "    print(\"Option not found,Please try again\")\n",
    "    \n",
    " "
   ]
  },
  {
   "cell_type": "code",
   "execution_count": null,
   "id": "3bf4c8ff-a3e6-4de2-a930-8fc1e8a54619",
   "metadata": {},
   "outputs": [],
   "source": []
  }
 ],
 "metadata": {
  "kernelspec": {
   "display_name": "Python 3 (ipykernel)",
   "language": "python",
   "name": "python3"
  },
  "language_info": {
   "codemirror_mode": {
    "name": "ipython",
    "version": 3
   },
   "file_extension": ".py",
   "mimetype": "text/x-python",
   "name": "python",
   "nbconvert_exporter": "python",
   "pygments_lexer": "ipython3",
   "version": "3.11.5"
  }
 },
 "nbformat": 4,
 "nbformat_minor": 5
}
