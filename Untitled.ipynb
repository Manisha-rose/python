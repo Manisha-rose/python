
{
 "cells": [
  {
   "cell_type": "code",
   "execution_count": 8,
   "id": "9465429a-c177-492d-a0c1-2c2c777d6406",
   "metadata": {},
   "outputs": [
    {
     "ename": "NameError",
     "evalue": "name 'sqrt' is not defined",
     "output_type": "error",
     "traceback": [
      "\u001b[0;31m---------------------------------------------------------------------------\u001b[0m",
      "\u001b[0;31mNameError\u001b[0m                                 Traceback (most recent call last)",
      "Cell \u001b[0;32mIn[8], line 3\u001b[0m\n\u001b[1;32m      1\u001b[0m \u001b[38;5;28;01mimport\u001b[39;00m \u001b[38;5;21;01mmath\u001b[39;00m\n\u001b[1;32m      2\u001b[0m number \u001b[38;5;241m=\u001b[39m \u001b[38;5;241m4\u001b[39m\n\u001b[0;32m----> 3\u001b[0m result \u001b[38;5;241m=\u001b[39m sqrt(number)\n\u001b[1;32m      4\u001b[0m \u001b[38;5;28mprint\u001b[39m(result)\n",
      "\u001b[0;31mNameError\u001b[0m: name 'sqrt' is not defined"
     ]
    }
   ],
   "source": [
    "import math\n",
    "number = 4\n",
    "result = sqrt(number)\n",
    "print(result)"
   ]
  },
  {
   "cell_type": "code",
   "execution_count": 11,
   "id": "7cf2a34b-1ee3-4add-a074-e7af16a0b79d",
   "metadata": {},
   "outputs": [
    {
     "name": "stdout",
     "output_type": "stream",
     "text": [
      "2.0\n"
     ]
    }
   ],
   "source": [
    "import math\n",
    "number = 4 \n",
    "result = math.sqrt(number)\n",
    "print (result)"
   ]
  },
  {
   "cell_type": "code",
   "execution_count": 14,
   "id": "5c9f7d70-0845-4ec5-aaa4-3d2d39f47858",
   "metadata": {},
   "outputs": [
    {
     "name": "stdout",
     "output_type": "stream",
     "text": [
      "4\n",
      "3\n"
     ]
    }
   ],
   "source": [
    "import math\n",
    "num = 3.7\n",
    "print(math.ceil(num))\n",
    "print(math.floor(num))"
   ]
  },
  {
   "cell_type": "code",
   "execution_count": 20,
   "id": "0be6fd5c-68b0-44a1-b7b7-3626372f4ddd",
   "metadata": {},
   "outputs": [
    {
     "name": "stdin",
     "output_type": "stream",
     "text": [
      "enter side of the square=  5\n"
     ]
    },
    {
     "name": "stdout",
     "output_type": "stream",
     "text": [
      "area of the square=  25.0\n"
     ]
    }
   ],
   "source": [
    "#program to compute the area of a square\n",
    "side = float(input(\"enter side of the square= \"))\n",
    "area = side * side\n",
    "print(\"area of the square= \", area)"
   ]
  },
  {
   "cell_type": "code",
   "execution_count": 4,
   "id": "f290ed61-74c3-4800-8f46-b376813da3a7",
   "metadata": {},
   "outputs": [
    {
     "name": "stdin",
     "output_type": "stream",
     "text": [
      "enter the base of the triangle=  5\n",
      "enter the height of the triangle=  10\n"
     ]
    },
    {
     "name": "stdout",
     "output_type": "stream",
     "text": [
      "area of the right angled triangle is:  25.0\n"
     ]
    }
   ],
   "source": [
    "#program to compute the area of a right angled triangle\n",
    "base = float(input(\"enter the base of the triangle= \"))\n",
    "height = float(input(\"enter the height of the triangle= \"))\n",
    "area = 0.5* base * height\n",
    "print(\"area of the right angled triangle is: \", area)\n"
   ]
  },
  {
   "cell_type": "code",
   "execution_count": 6,
   "id": "b94048d5-0296-45bb-b101-e95cb9e7971c",
   "metadata": {},
   "outputs": [
    {
     "name": "stdin",
     "output_type": "stream",
     "text": [
      "enter your name:  karuna\n"
     ]
    },
    {
     "name": "stdout",
     "output_type": "stream",
     "text": [
      "hello,  karuna !\n"
     ]
    }
   ],
   "source": [
    "#program to display greeting message\n",
    "name = input(\"enter your name: \")\n",
    "print(\"hello, \", name,\"!\")"
   ]
  },
  {
   "cell_type": "code",
   "execution_count": 10,
   "id": "9037e84a-8295-4fa0-8fdc-7b538194bb93",
   "metadata": {},
   "outputs": [
    {
     "name": "stdin",
     "output_type": "stream",
     "text": [
      "enter a number:  2\n"
     ]
    },
    {
     "name": "stdout",
     "output_type": "stream",
     "text": [
      "previous num:  1\n",
      "next num:  3\n"
     ]
    }
   ],
   "source": [
    "#program to read an integer number and print its previous and next number\n",
    "num = int(input(\"enter a number: \"))\n",
    "prenum = (num-1)\n",
    "nextnum =( num+1)\n",
    "print(\"previous num: \", prenum)\n",
    "print(\"next num: \", nextnum)"
   ]
  },
  {
   "cell_type": "code",
   "execution_count": 12,
   "id": "572b0739-96c0-4e78-8553-21946196db89",
   "metadata": {},
   "outputs": [
    {
     "name": "stdin",
     "output_type": "stream",
     "text": [
      "enter a principle value:  1000\n",
      "enter a rate:  2\n",
      "enter a time:  1\n"
     ]
    },
    {
     "name": "stdout",
     "output_type": "stream",
     "text": [
      "simple interest=  20.0\n"
     ]
    }
   ],
   "source": [
    "#program to find simple interest\n",
    "principle=float(input(\"enter a principle value: \"))\n",
    "rate=float(input(\"enter a rate: \"))\n",
    "time=float(input(\"enter a time: \"))\n",
    "sim=(principle*rate*time)/100\n",
    "print(\"simple interest= \",sim)"
   ]
  },
  {
   "cell_type": "code",
   "execution_count": null,
   "id": "9cb9314b-cd8c-4e89-92a1-7609d06ea1a0",
   "metadata": {},
   "outputs": [],
   "source": []
  }
 ],
 "metadata": {
  "kernelspec": {
   "display_name": "Python 3 (ipykernel)",
   "language": "python",
   "name": "python3"
  },
  "language_info": {
   "codemirror_mode": {
    "name": "ipython",
    "version": 3
   },
   "file_extension": ".py",
   "mimetype": "text/x-python",
   "name": "python",
   "nbconvert_exporter": "python",
   "pygments_lexer": "ipython3",
   "version": "3.11.5"
  }
 },
 "nbformat": 4,
 "nbformat_minor": 5
}
