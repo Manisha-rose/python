{
 "cells": [
  {
   "cell_type": "code",
   "execution_count": 11,
   "id": "136b4679-69b5-4f2b-b37f-2801b286428e",
   "metadata": {},
   "outputs": [
    {
     "name": "stdin",
     "output_type": "stream",
     "text": [
      "enter some integers: -2 6 78 -1\n"
     ]
    },
    {
     "name": "stdout",
     "output_type": "stream",
     "text": [
      "positive list of No.s are: [6, 78]\n"
     ]
    }
   ],
   "source": [
    "#program list comprehension (a)Generate positive list of numbers from a given list of integers\n",
    "nums=list(map(int,input(\"enter some integers:\" ).split()))\n",
    "num = [x for x in nums if x>0 ]\n",
    "print (\"positive list of No.s are:\",num)"
   ]
  },
  {
   "cell_type": "code",
   "execution_count": 20,
   "id": "cc73157e-dc4c-44d0-a3c0-24768ad82a57",
   "metadata": {},
   "outputs": [
    {
     "name": "stdin",
     "output_type": "stream",
     "text": [
      "enter a range: 4\n"
     ]
    },
    {
     "name": "stdout",
     "output_type": "stream",
     "text": [
      "square of numbers: [0, 1, 4, 9]\n"
     ]
    }
   ],
   "source": [
    "#program list comprehension (b)square of n numbers\n",
    "n=int(input(\"enter a range:\"))\n",
    "square=[x**2 for x in range(n)]\n",
    "print(\"square of numbers:\",square)"
   ]
  },
  {
   "cell_type": "code",
   "execution_count": 17,
   "id": "37971c89-7c30-4bec-9b74-8bd1a15bc23f",
   "metadata": {},
   "outputs": [
    {
     "name": "stdin",
     "output_type": "stream",
     "text": [
      "enter a word: apple\n"
     ]
    },
    {
     "name": "stdout",
     "output_type": "stream",
     "text": [
      "vowels in the word: ['a', 'e']\n"
     ]
    }
   ],
   "source": [
    "#program list comprehension (c)Form a list of vowels selected from a given word\n",
    "word=input(\"enter a word:\")\n",
    "newlist=[ch for ch in word if ch in \"aeiouAEIOU\"]\n",
    "print(\"vowels in the word:\",newlist)"
   ]
  },
  {
   "cell_type": "code",
   "execution_count": 19,
   "id": "17f1f5e8-d96e-4b2a-88d8-87d15d0e253b",
   "metadata": {},
   "outputs": [
    {
     "name": "stdin",
     "output_type": "stream",
     "text": [
      "enter a word: python\n"
     ]
    },
    {
     "name": "stdout",
     "output_type": "stream",
     "text": [
      "ordinal values of word: [112, 121, 116, 104, 111, 110]\n"
     ]
    }
   ],
   "source": [
    "#program list comprehension (d) List ordinal value of each element of a word, using ord()\n",
    "word=input(\"enter a word:\")\n",
    "ov=[ord(ch) for ch in word]\n",
    "print(\"ordinal values of word:\", ov)\n"
   ]
  },
  {
   "cell_type": "code",
   "execution_count": null,
   "id": "4ab43578-40ab-4580-a44e-26009cb730a7",
   "metadata": {},
   "outputs": [],
   "source": []
  }
 ],
 "metadata": {
  "kernelspec": {
   "display_name": "Python 3 (ipykernel)",
   "language": "python",
   "name": "python3"
  },
  "language_info": {
   "codemirror_mode": {
    "name": "ipython",
    "version": 3
   },
   "file_extension": ".py",
   "mimetype": "text/x-python",
   "name": "python",
   "nbconvert_exporter": "python",
   "pygments_lexer": "ipython3",
   "version": "3.11.5"
  }
 },
 "nbformat": 4,
 "nbformat_minor": 5
}
