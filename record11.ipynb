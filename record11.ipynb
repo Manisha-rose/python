{
 "cells": [
  {
   "cell_type": "code",
   "execution_count": 18,
   "id": "54e1f5bc-2532-47b7-af31-fdc64c6cb6d5",
   "metadata": {},
   "outputs": [
    {
     "name": "stdin",
     "output_type": "stream",
     "text": [
      "enter a line of text: this is the text that is this is\n"
     ]
    },
    {
     "name": "stdout",
     "output_type": "stream",
     "text": [
      "word occurences:\n",
      "this : 2\n",
      "is : 3\n",
      "the : 1\n",
      "text : 1\n",
      "that : 1\n"
     ]
    }
   ],
   "source": [
    "#program to count the occurences of each word in a line of text\n",
    "a=input(\"enter a line of text:\")\n",
    "words=a.split()\n",
    "b={}\n",
    "for word in words:\n",
    "  if word in b:\n",
    "      b[word] += 1\n",
    "  else:\n",
    "      b[word] = 1\n",
    "print(\"word occurences:\")\n",
    "for w in b:\n",
    "    print(w,\":\",b[w])\n",
    "   "
   ]
  },
  {
   "cell_type": "code",
   "execution_count": 6,
   "id": "a80187a2-85c2-4d46-bc65-6243959a2a61",
   "metadata": {},
   "outputs": [
    {
     "name": "stdin",
     "output_type": "stream",
     "text": [
      "enter a list of integers: 5 41 136 245 3\n"
     ]
    },
    {
     "name": "stdout",
     "output_type": "stream",
     "text": [
      "changed list: [5, 41, 'over', 'over', 3]\n"
     ]
    }
   ],
   "source": [
    "#Program to prompt the user for a list of integers. For all values greater than 100, store ‘over’ instead\n",
    "num=list(map(int,input(\"enter a list of integers:\").split()))\n",
    "b=[]\n",
    "for n in num:\n",
    "    if n >100:\n",
    "        b.append(\"over\")\n",
    "    else:\n",
    "        b.append(n)\n",
    "print(\"changed list:\",b)\n"
   ]
  },
  {
   "cell_type": "code",
   "execution_count": 23,
   "id": "3e64daea-c477-412c-8d70-85b242561d3f",
   "metadata": {},
   "outputs": [
    {
     "name": "stdin",
     "output_type": "stream",
     "text": [
      "enter first names: mira avani hiba\n"
     ]
    },
    {
     "name": "stdout",
     "output_type": "stream",
     "text": [
      "Occurences of a: 4\n"
     ]
    }
   ],
   "source": [
    "#program to store a list of first names. Count the occurrences of ‘a’ within the list\n",
    "names=input(\"enter first names:\").split()\n",
    "c=0\n",
    "for name in names:\n",
    "   for char in name:\n",
    "       if char.lower() == \"a\":\n",
    "          c += 1\n",
    "print(\"Occurences of a:\",c)\n",
    "\n"
   ]
  },
  {
   "cell_type": "code",
   "execution_count": 19,
   "id": "d084c87f-1286-4c72-9dfa-1db445c4c4a6",
   "metadata": {},
   "outputs": [
    {
     "name": "stdin",
     "output_type": "stream",
     "text": [
      "enter a number: 62\n",
      "enter next number: 54\n"
     ]
    },
    {
     "name": "stdout",
     "output_type": "stream",
     "text": [
      "gcd of 2 numbers is : 2\n"
     ]
    }
   ],
   "source": [
    "#program to find gcd of 2 numbers.\n",
    "import math\n",
    "num1=int(input(\"enter a number:\"))\n",
    "num2=int(input(\"enter next number:\"))\n",
    "gcd=math.gcd(num1,num2)\n",
    "print(\"gcd of 2 numbers is :\",gcd)"
   ]
  },
  {
   "cell_type": "code",
   "execution_count": 32,
   "id": "94ca33b5-808a-4d63-8e35-1dfe27c8e9d8",
   "metadata": {},
   "outputs": [
    {
     "name": "stdin",
     "output_type": "stream",
     "text": [
      "enter a number: 62\n",
      "enter next number: 54\n"
     ]
    },
    {
     "name": "stdout",
     "output_type": "stream",
     "text": [
      "gcd is: 2\n"
     ]
    }
   ],
   "source": [
    "#program to find gcd of 2 numbers.\n",
    "num1=int(input(\"enter a number:\"))\n",
    "num2=int(input(\"enter next number:\"))\n",
    "while num2!= 0:\n",
    "    temp = num2\n",
    "    num2 = num1 % num2\n",
    "    num1 = temp\n",
    "print(\"gcd is:\", num1)"
   ]
  },
  {
   "cell_type": "code",
   "execution_count": 33,
   "id": "01763456-77fd-450d-8975-ee3339588b63",
   "metadata": {},
   "outputs": [
    {
     "name": "stdin",
     "output_type": "stream",
     "text": [
      "enter a list of integers: 2 3 45 6 5 9\n"
     ]
    },
    {
     "name": "stdout",
     "output_type": "stream",
     "text": [
      "new list removing even no.s: [3, 45, 5, 9]\n"
     ]
    }
   ],
   "source": [
    "#program from a list of integers, create a list removing even numbers\n",
    "nums=list(map(int,input(\"enter a list of integers:\").split()))\n",
    "newlist = []\n",
    "for num in nums:\n",
    "    if num % 2!= 0:\n",
    "        newlist.append(num)\n",
    "print(\"new list removing even no.s:\",newlist)\n"
   ]
  },
  {
   "cell_type": "code",
   "execution_count": 36,
   "id": "3565aa8a-d449-4ff4-ab71-e3f778004f0c",
   "metadata": {},
   "outputs": [
    {
     "name": "stdin",
     "output_type": "stream",
     "text": [
      "enter a number: 5\n"
     ]
    },
    {
     "name": "stdout",
     "output_type": "stream",
     "text": [
      "factorial of 5 is: 120\n"
     ]
    }
   ],
   "source": [
    "#program to find the factorial of a number\n",
    "num=int(input(\"enter a number:\"))\n",
    "fact=1\n",
    "for i in range(1,num+1):\n",
    "    fact*=i\n",
    "print(\"factorial of\",num,\"is:\",fact)"
   ]
  },
  {
   "cell_type": "code",
   "execution_count": 13,
   "id": "6905cc73-0967-42bc-a7ca-d304fa0e5259",
   "metadata": {},
   "outputs": [
    {
     "name": "stdin",
     "output_type": "stream",
     "text": [
      "Enter number of terms:  5\n"
     ]
    },
    {
     "name": "stdout",
     "output_type": "stream",
     "text": [
      "Fibonacci series:\n",
      "0 1 1 2 3 "
     ]
    }
   ],
   "source": [
    "#program to generate Fibonacci series of N terms\n",
    "n = int(input(\"Enter number of terms: \"))   \n",
    "x, y = 0, 1 \n",
    "print(\"Fibonacci series:\")\n",
    "for i in range(n):         \n",
    "    print (x, end=\" \")    \n",
    "    x, y = y, x + y         \n"
   ]
  },
  {
   "cell_type": "code",
   "execution_count": 14,
   "id": "50c1216f-e080-471f-a6f1-e1ff7581dd1b",
   "metadata": {},
   "outputs": [
    {
     "name": "stdin",
     "output_type": "stream",
     "text": [
      "enter some integers: 2 6 21\n"
     ]
    },
    {
     "name": "stdout",
     "output_type": "stream",
     "text": [
      "list of items: [2, 6, 21]\n",
      "sum of items in list: 29\n"
     ]
    }
   ],
   "source": [
    "#program to find the sum of all items in a list\n",
    "nums=list(map(int,input(\"enter some integers:\").split()))\n",
    "print(\"list of items:\",nums)\n",
    "sum=0\n",
    "for num in nums:\n",
    "    sum+=num\n",
    "print(\"sum of items in list:\",sum)"
   ]
  },
  {
   "cell_type": "code",
   "execution_count": 5,
   "id": "4fd948ea-3314-4d37-acc9-7fc0f632e387",
   "metadata": {},
   "outputs": [
    {
     "name": "stdin",
     "output_type": "stream",
     "text": [
      "enter range begining: 1000\n",
      "enter range ending: 10000\n"
     ]
    },
    {
     "name": "stdout",
     "output_type": "stream",
     "text": [
      "numbers are: 4624\n",
      "numbers are: 6084\n",
      "numbers are: 6400\n",
      "numbers are: 8464\n"
     ]
    }
   ],
   "source": [
    "#program to generate a 4 digit no.list in a given range with all their digits even and the number is a perfect square.\n",
    "import math\n",
    "a=int(input(\"enter range begining:\"))\n",
    "b=int(input(\"enter range ending:\"))\n",
    "for i in range(a,b):\n",
    "        root=math.isqrt(i)\n",
    "        if root*root==i:\n",
    "            even=1\n",
    "        for d in str(i):\n",
    "          if int(d)%2!=0:\n",
    "            even = 0\n",
    "            break\n",
    "        if even:\n",
    "            print(\"numbers are:\",i)\n",
    "    \n",
    "       \n",
    "      "
   ]
  },
  {
   "cell_type": "code",
   "execution_count": 17,
   "id": "7a9547cd-911a-4c4e-b4b8-4a2937ded260",
   "metadata": {},
   "outputs": [
    {
     "name": "stdin",
     "output_type": "stream",
     "text": [
      "enter a string: hello\n"
     ]
    },
    {
     "name": "stdout",
     "output_type": "stream",
     "text": [
      "character freq is:\n",
      "h : 1\n",
      "e : 1\n",
      "l : 2\n",
      "o : 1\n"
     ]
    }
   ],
   "source": [
    "#program to Count the number of characters (character frequency) in a string.\n",
    "text=input(\"enter a string:\")\n",
    "c={}\n",
    "for ch in text:\n",
    "    if ch in c:\n",
    "        c[ch]+=1\n",
    "    else:\n",
    "        c[ch]=1\n",
    "print(\"character freq is:\")\n",
    "for char in c:\n",
    "    print(char,\":\",c[char])\n",
    "        \n"
   ]
  },
  {
   "cell_type": "code",
   "execution_count": 4,
   "id": "24e69471-3b7e-4e98-b33f-e21cc83fc1ba",
   "metadata": {},
   "outputs": [
    {
     "name": "stdin",
     "output_type": "stream",
     "text": [
      "Enter number of steps:  4\n"
     ]
    },
    {
     "name": "stdout",
     "output_type": "stream",
     "text": [
      "1\t\n",
      "2\t4\t\n",
      "3\t6\t9\t\n",
      "4\t8\t12\t16\t\n"
     ]
    }
   ],
   "source": [
    "n = int(input(\"Enter number of steps: \"))\n",
    "for i in range(1, n + 1):\n",
    "     for j in range(1, i + 1):\n",
    "        print(i * j, end=\"\\t\")  \n",
    "     print()  \n"
   ]
  },
  {
   "cell_type": "code",
   "execution_count": null,
   "id": "fcecdcd8-062e-4986-a0c1-8e502483f3fe",
   "metadata": {},
   "outputs": [],
   "source": []
  }
 ],
 "metadata": {
  "kernelspec": {
   "display_name": "Python 3 (ipykernel)",
   "language": "python",
   "name": "python3"
  },
  "language_info": {
   "codemirror_mode": {
    "name": "ipython",
    "version": 3
   },
   "file_extension": ".py",
   "mimetype": "text/x-python",
   "name": "python",
   "nbconvert_exporter": "python",
   "pygments_lexer": "ipython3",
   "version": "3.11.5"
  }
 },
 "nbformat": 4,
 "nbformat_minor": 5
}
