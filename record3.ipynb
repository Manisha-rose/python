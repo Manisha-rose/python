{
 "cells": [
  {
   "cell_type": "code",
   "execution_count": 2,
   "id": "c5746192-d24e-448e-8fe7-495841654141",
   "metadata": {},
   "outputs": [
    {
     "name": "stdin",
     "output_type": "stream",
     "text": [
      "enter first number:  9\n",
      "enter second number:  3\n",
      "enter third number:  4\n"
     ]
    },
    {
     "name": "stdout",
     "output_type": "stream",
     "text": [
      "biggest number is:  9\n"
     ]
    }
   ],
   "source": [
    "#program to find the biggest of three numbers\n",
    "num1=int(input(\"enter first number: \"))\n",
    "num2=int(input(\"enter second number: \"))\n",
    "num3=int(input(\"enter third number: \"))\n",
    "maxno=max(num1,num2,num3)\n",
    "print(\"biggest number is: \",maxno)"
   ]
  },
  {
   "cell_type": "code",
   "execution_count": null,
   "id": "9bbd40e2-abaf-4d7f-af9a-1dd5f2c6e805",
   "metadata": {},
   "outputs": [],
   "source": []
  }
 ],
 "metadata": {
  "kernelspec": {
   "display_name": "Python 3 (ipykernel)",
   "language": "python",
   "name": "python3"
  },
  "language_info": {
   "codemirror_mode": {
    "name": "ipython",
    "version": 3
   },
   "file_extension": ".py",
   "mimetype": "text/x-python",
   "name": "python",
   "nbconvert_exporter": "python",
   "pygments_lexer": "ipython3",
   "version": "3.11.5"
  }
 },
 "nbformat": 4,
 "nbformat_minor": 5
}
