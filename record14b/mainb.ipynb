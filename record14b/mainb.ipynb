{
 "cells": [
  {
   "cell_type": "code",
   "execution_count": null,
   "id": "0b055d49-4589-417a-b385-d4559ce0af9c",
   "metadata": {},
   "outputs": [
    {
     "name": "stdout",
     "output_type": "stream",
     "text": [
      "1. Rectangle\n",
      "2. Circle\n",
      "3. Cuboid\n",
      " 4. Sphere\n",
      " 5. Exit\n"
     ]
    },
    {
     "name": "stdin",
     "output_type": "stream",
     "text": [
      "Enter your choice:  1\n",
      "Enter length:  1\n",
      "Enter breadth:  3\n"
     ]
    },
    {
     "name": "stdout",
     "output_type": "stream",
     "text": [
      "Area of Rectangle is: 3\n",
      "Perimeter of Rectangle is: 8\n",
      "1. Rectangle\n",
      "2. Circle\n",
      "3. Cuboid\n",
      " 4. Sphere\n",
      " 5. Exit\n"
     ]
    },
    {
     "name": "stdin",
     "output_type": "stream",
     "text": [
      "Enter your choice:  2\n",
      "Enter radius:  3\n"
     ]
    },
    {
     "name": "stdout",
     "output_type": "stream",
     "text": [
      "Area of Circle is: 28.274333882308138\n",
      "Perimeter of Circle is: 18.84955592153876\n",
      "1. Rectangle\n",
      "2. Circle\n",
      "3. Cuboid\n",
      " 4. Sphere\n",
      " 5. Exit\n"
     ]
    },
    {
     "name": "stdin",
     "output_type": "stream",
     "text": [
      "Enter your choice:  3\n",
      "Enter length:  6\n",
      "Enter breadth:  2\n",
      "Enter height:  4\n"
     ]
    },
    {
     "name": "stdout",
     "output_type": "stream",
     "text": [
      "Area of Cuboid is: 88\n",
      "Perimeter of Cuboid is: 48\n",
      "1. Rectangle\n",
      "2. Circle\n",
      "3. Cuboid\n",
      " 4. Sphere\n",
      " 5. Exit\n"
     ]
    },
    {
     "name": "stdin",
     "output_type": "stream",
     "text": [
      "Enter your choice:  4\n",
      "Enter radius:  2\n"
     ]
    },
    {
     "name": "stdout",
     "output_type": "stream",
     "text": [
      "Area of Sphere is: 25.132741228718345\n",
      "Circumference of Sphere is: 12.566370614359172\n",
      "1. Rectangle\n",
      "2. Circle\n",
      "3. Cuboid\n",
      " 4. Sphere\n",
      " 5. Exit\n"
     ]
    }
   ],
   "source": [
    "from Graphics import rectangle\n",
    "from Graphics import circle\n",
    "from Graphics.Graphics3D import cuboid\n",
    "from Graphics.Graphics3D import sphere\n",
    "\n",
    "while(1):\n",
    " print(\"1. Rectangle\\n2. Circle\\n3. Cuboid\\n 4. Sphere\\n 5. Exit\")\n",
    " ch=int(input(\"Enter your choice: \"))\n",
    " if ch==1:\n",
    "   l=int(input(\"Enter length: \"))\n",
    "   b=int(input(\"Enter breadth: \"))\n",
    "   print(\"Area of Rectangle is:\",rectangle.area(l,b))\n",
    "   print(\"Perimeter of Rectangle is:\",rectangle.perimeter(l,b))\n",
    " elif ch==2:\n",
    "   r=int(input(\"Enter radius: \"))\n",
    "   print(\"Area of Circle is:\",circle.area(r))\n",
    "   print(\"Perimeter of Circle is:\",circle.perimeter(r))\n",
    " elif ch==3:\n",
    "   l = int(input(\"Enter length: \"))\n",
    "   b = int(input(\"Enter breadth: \"))\n",
    "   h= int(input(\"Enter height: \"))\n",
    "   print(\"Area of Cuboid is:\",cuboid.area(l,b,h))\n",
    "   print(\"Perimeter of Cuboid is:\",cuboid.perimeter(l,b,h))\n",
    " elif ch==4:\n",
    "   r=int(input(\"Enter radius: \"))\n",
    "   print(\"Area of Sphere is:\",sphere.area(r))\n",
    "   print(\"Circumference of Sphere is:\",sphere.circumference(r))\n",
    " else:\n",
    "   print(\"Exiting...\")\n",
    "   break"
   ]
  },
  {
   "cell_type": "code",
   "execution_count": null,
   "id": "10ce4a88-2073-45ba-b52a-6421f4e97811",
   "metadata": {},
   "outputs": [],
   "source": []
  }
 ],
 "metadata": {
  "kernelspec": {
   "display_name": "Python 3 (ipykernel)",
   "language": "python",
   "name": "python3"
  },
  "language_info": {
   "codemirror_mode": {
    "name": "ipython",
    "version": 3
   },
   "file_extension": ".py",
   "mimetype": "text/x-python",
   "name": "python",
   "nbconvert_exporter": "python",
   "pygments_lexer": "ipython3",
   "version": "3.10.12"
  }
 },
 "nbformat": 4,
 "nbformat_minor": 5
}
