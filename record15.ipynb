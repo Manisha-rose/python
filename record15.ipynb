{
 "cells": [
  {
   "cell_type": "code",
   "execution_count": 24,
   "id": "44415ebc-a093-4b0e-b8b1-1e7aac19dabc",
   "metadata": {},
   "outputs": [
    {
     "name": "stdin",
     "output_type": "stream",
     "text": [
      "enter length of rectangle1: 4\n",
      "enter breadth of rectangle1: 2\n",
      "enter length of rectangle2: 1\n",
      "enter breadth of rectangle2: 6\n"
     ]
    },
    {
     "name": "stdout",
     "output_type": "stream",
     "text": [
      "Length: 4\n",
      "Breadth: 2\n",
      "Area: 8\n",
      "Perimter: 12\n",
      "Length: 1\n",
      "Breadth: 6\n",
      "Area: 6\n",
      "Perimter: 14\n",
      "Rectangle 1 is greater\n"
     ]
    }
   ],
   "source": [
    "#class and objects\n",
    "class rectangle:\n",
    "    def data(self,length,breadth):\n",
    "        self.length = length\n",
    "        self.breadth = breadth\n",
    "    def area(self):    \n",
    "         return self.length*self.breadth\n",
    "\n",
    "    def peri(self):\n",
    "         return 2*(self.length+self.breadth)\n",
    "    \n",
    "    def display(self):\n",
    "        print(\"Length:\", self.length)\n",
    "        print(\"Breadth:\", self.breadth)\n",
    "        print(\"Area:\", self.area())\n",
    "        print(\"Perimter:\",self.peri())\n",
    "\n",
    "#create object\n",
    "r1=rectangle()\n",
    "r2=rectangle()\n",
    "l1=int(input(\"enter length of rectangle1:\"))\n",
    "b1=int(input(\"enter breadth of rectangle1:\"))\n",
    "l2=int(input(\"enter length of rectangle2:\"))\n",
    "b2=int(input(\"enter breadth of rectangle2:\"))\n",
    "\n",
    "r1.data(l1, b1)\n",
    "r2.data(l2, b2)  \n",
    "\n",
    "\n",
    "p=r1.area()\n",
    "q=r2.area()\n",
    "\n",
    "r1.display()\n",
    "r2.display()\n",
    "if(p>q):\n",
    " print(\"Rectangle 1 is greater\")\n",
    "elif(p<q):\n",
    " print(\"Rectagle 2 is greater\")\n",
    "else:\n",
    " print(\"Rectangles are equal\")\n",
    "\n",
    "\n"
   ]
  },
  {
   "cell_type": "code",
   "execution_count": null,
   "id": "701e88a0-b27d-465e-973f-9a3c5f46e351",
   "metadata": {},
   "outputs": [],
   "source": []
  }
 ],
 "metadata": {
  "kernelspec": {
   "display_name": "Python 3 (ipykernel)",
   "language": "python",
   "name": "python3"
  },
  "language_info": {
   "codemirror_mode": {
    "name": "ipython",
    "version": 3
   },
   "file_extension": ".py",
   "mimetype": "text/x-python",
   "name": "python",
   "nbconvert_exporter": "python",
   "pygments_lexer": "ipython3",
   "version": "3.11.5"
  }
 },
 "nbformat": 4,
 "nbformat_minor": 5
}
