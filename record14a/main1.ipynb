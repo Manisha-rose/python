{
 "cells": [
  {
   "cell_type": "code",
   "execution_count": 2,
   "id": "3cb93e9f-eb1a-4907-b910-70c85b4da39d",
   "metadata": {},
   "outputs": [
    {
     "name": "stdin",
     "output_type": "stream",
     "text": [
      "Enter length of rectangle:  4\n",
      "Enter breadth of rectangle:  2\n",
      "Enter radius of circle:  3\n"
     ]
    },
    {
     "name": "stdout",
     "output_type": "stream",
     "text": [
      "Rectangle area: 8.0\n",
      "Rectangle perimeter: 12.0\n",
      "Circle area: 28.274333882308138\n",
      "Circle perimeter: 18.84955592153876\n"
     ]
    }
   ],
   "source": [
    "# main1.py\n",
    "\n",
    "import rectangle\n",
    "import circle\n",
    "\n",
    "l = float(input(\"Enter length of rectangle: \"))\n",
    "b = float(input(\"Enter breadth of rectangle: \"))\n",
    "r = float(input(\"Enter radius of circle: \"))\n",
    "\n",
    "print(\"Rectangle area:\", rectangle.area(l, b))\n",
    "print(\"Rectangle perimeter:\", rectangle.perimeter(l, b))\n",
    "\n",
    "print(\"Circle area:\", circle.area(r))\n",
    "print(\"Circle perimeter:\", circle.perimeter(r))\n"
   ]
  },
  {
   "cell_type": "code",
   "execution_count": null,
   "id": "feea4dca-ea42-4a4d-8da4-ea9778e501ce",
   "metadata": {},
   "outputs": [],
   "source": []
  }
 ],
 "metadata": {
  "kernelspec": {
   "display_name": "Python 3 (ipykernel)",
   "language": "python",
   "name": "python3"
  },
  "language_info": {
   "codemirror_mode": {
    "name": "ipython",
    "version": 3
   },
   "file_extension": ".py",
   "mimetype": "text/x-python",
   "name": "python",
   "nbconvert_exporter": "python",
   "pygments_lexer": "ipython3",
   "version": "3.11.5"
  }
 },
 "nbformat": 4,
 "nbformat_minor": 5
}
