{
 "cells": [
  {
   "cell_type": "code",
   "execution_count": 1,
   "id": "40cda04d",
   "metadata": {},
   "outputs": [
    {
     "name": "stdout",
     "output_type": "stream",
     "text": [
      "good morning\n"
     ]
    }
   ],
   "source": [
    " print(\"good morning\")"
   ]
  },
  {
   "cell_type": "code",
   "execution_count": 2,
   "id": "1aa379d0",
   "metadata": {},
   "outputs": [
    {
     "name": "stdout",
     "output_type": "stream",
     "text": [
      "SMARANA, SBI colony, Chevayur PO,Kozhikode\n"
     ]
    }
   ],
   "source": [
    "print(\"SMARANA, SBI colony, Chevayur PO,Kozhikode\")"
   ]
  },
  {
   "cell_type": "code",
   "execution_count": 3,
   "id": "ee720c1c",
   "metadata": {},
   "outputs": [
    {
     "name": "stdout",
     "output_type": "stream",
     "text": [
      "SMARANA, \n",
      " SBI colony, Chevayur PO\n"
     ]
    }
   ],
   "source": [
    "print(\"SMARANA, \\n SBI colony, Chevayur PO\")"
   ]
  },
  {
   "cell_type": "code",
   "execution_count": 6,
   "id": "8c333750",
   "metadata": {},
   "outputs": [
    {
     "name": "stdout",
     "output_type": "stream",
     "text": [
      "SMARANA, \n",
      "SBI Colony,\n",
      "Chevayur PO,\n",
      "kozhikode\n"
     ]
    }
   ],
   "source": [
    "print (\"SMARANA, \\nSBI Colony,\\nChevayur PO,\\nkozhikode\")"
   ]
  },
  {
   "cell_type": "code",
   "execution_count": 7,
   "id": "f60202fb",
   "metadata": {},
   "outputs": [
    {
     "name": "stdout",
     "output_type": "stream",
     "text": [
      "2\n"
     ]
    }
   ],
   "source": [
    "print(5//2)"
   ]
  },
  {
   "cell_type": "code",
   "execution_count": 8,
   "id": "8d27a283",
   "metadata": {},
   "outputs": [
    {
     "name": "stdout",
     "output_type": "stream",
     "text": [
      "mca student's\n"
     ]
    }
   ],
   "source": [
    "print(\"mca student's\")"
   ]
  },
  {
   "cell_type": "code",
   "execution_count": 17,
   "id": "a80d0216",
   "metadata": {},
   "outputs": [
    {
     "name": "stdout",
     "output_type": "stream",
     "text": [
      "mca \"students\"\n"
     ]
    }
   ],
   "source": [
    "print( 'mca \"students\"')"
   ]
  },
  {
   "cell_type": "code",
   "execution_count": 18,
   "id": "d8493a28",
   "metadata": {},
   "outputs": [
    {
     "name": "stdout",
     "output_type": "stream",
     "text": [
      "4\n"
     ]
    }
   ],
   "source": [
    "print(2**2)"
   ]
  },
  {
   "cell_type": "code",
   "execution_count": 21,
   "id": "63b707e6",
   "metadata": {},
   "outputs": [
    {
     "data": {
      "text/plain": [
       "4"
      ]
     },
     "execution_count": 21,
     "metadata": {},
     "output_type": "execute_result"
    }
   ],
   "source": [
    "(2**2)"
   ]
  },
  {
   "cell_type": "code",
   "execution_count": 22,
   "id": "21fe603e",
   "metadata": {},
   "outputs": [
    {
     "data": {
      "text/plain": [
       "4"
      ]
     },
     "execution_count": 22,
     "metadata": {},
     "output_type": "execute_result"
    }
   ],
   "source": [
    "2**2"
   ]
  },
  {
   "cell_type": "code",
   "execution_count": 23,
   "id": "e440b9a7",
   "metadata": {},
   "outputs": [
    {
     "name": "stdout",
     "output_type": "stream",
     "text": [
      "arjun\n"
     ]
    }
   ],
   "source": [
    "n=\"arjun\"\n",
    "print(n)"
   ]
  },
  {
   "cell_type": "code",
   "execution_count": 37,
   "id": "0faaeb08",
   "metadata": {},
   "outputs": [
    {
     "name": "stdout",
     "output_type": "stream",
     "text": [
      "name = rj\n"
     ]
    }
   ],
   "source": [
    "n=\"arjun\"\n",
    "print(\"name =\",n[1:3])"
   ]
  },
  {
   "cell_type": "code",
   "execution_count": null,
   "id": "35db0851",
   "metadata": {},
   "outputs": [],
   "source": []
  },
  {
   "cell_type": "code",
   "execution_count": null,
   "id": "2d53a31d",
   "metadata": {},
   "outputs": [],
   "source": []
  }
 ],
 "metadata": {
  "kernelspec": {
   "display_name": "Python 3 (ipykernel)",
   "language": "python",
   "name": "python3"
  },
  "language_info": {
   "codemirror_mode": {
    "name": "ipython",
    "version": 3
   },
   "file_extension": ".py",
   "mimetype": "text/x-python",
   "name": "python",
   "nbconvert_exporter": "python",
   "pygments_lexer": "ipython3",
   "version": "3.11.5"
  }
 },
 "nbformat": 4,
 "nbformat_minor": 5
}
