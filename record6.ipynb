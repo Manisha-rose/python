{
 "cells": [
  {
   "cell_type": "code",
   "execution_count": 10,
   "id": "2be26979-fc37-4e35-bcb7-ec5a02dd89da",
   "metadata": {},
   "outputs": [
    {
     "name": "stdin",
     "output_type": "stream",
     "text": [
      "enter numbers: 1,2,3,4,5,6,7\n"
     ]
    },
    {
     "name": "stdout",
     "output_type": "stream",
     "text": [
      "tuple is: (1, 2, 3, 4, 5, 6, 7)\n",
      "first 3rd elemnet: 3\n",
      "last 3rd element: 5\n"
     ]
    }
   ],
   "source": [
    "#program to get the first third element and last third elemnt from a tuple\n",
    "n=tuple(map(int,input(\"enter numbers:\").split(',')))\n",
    "print(\"tuple is:\",n)\n",
    "nt=n[2]\n",
    "ntt=n[-3]\n",
    "print(\"first 3rd elemnet:\",nt)\n",
    "print(\"last 3rd element:\",ntt)"
   ]
  },
  {
   "cell_type": "code",
   "execution_count": 9,
   "id": "6bc1370f-e8e2-4cff-ada8-46a3781713fa",
   "metadata": {},
   "outputs": [
    {
     "name": "stdin",
     "output_type": "stream",
     "text": [
      "enter numbers: 1,2,3,4,5,6\n"
     ]
    },
    {
     "name": "stdout",
     "output_type": "stream",
     "text": [
      "tuple is: (1, 2, 3, 4, 5, 6)\n",
      "avg of tuple: 3.5\n"
     ]
    }
   ],
   "source": [
    "#program to accept a string and convert to tuple and find it sum\n",
    "n=tuple(map(int,input(\"enter numbers:\").split(',')))\n",
    "print(\"tuple is:\",n)\n",
    "sum(n)\n",
    "avg=sum(n)/len(n)\n",
    "print(\"avg of tuple:\",avg)"
   ]
  },
  {
   "cell_type": "code",
   "execution_count": null,
   "id": "8a7ca2e5-9001-4ee9-afbc-1a864dfd4c0b",
   "metadata": {},
   "outputs": [],
   "source": []
  }
 ],
 "metadata": {
  "kernelspec": {
   "display_name": "Python 3 (ipykernel)",
   "language": "python",
   "name": "python3"
  },
  "language_info": {
   "codemirror_mode": {
    "name": "ipython",
    "version": 3
   },
   "file_extension": ".py",
   "mimetype": "text/x-python",
   "name": "python",
   "nbconvert_exporter": "python",
   "pygments_lexer": "ipython3",
   "version": "3.11.5"
  }
 },
 "nbformat": 4,
 "nbformat_minor": 5
}
