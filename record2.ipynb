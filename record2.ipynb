
{
 "cells": [
  {
   "cell_type": "code",
   "execution_count": 2,
   "id": "842902d2-f92c-44a4-98cc-7f189bad0012",
   "metadata": {},
   "outputs": [
    {
     "name": "stdin",
     "output_type": "stream",
     "text": [
      "enter temp in celsius:  32\n"
     ]
    },
    {
     "name": "stdout",
     "output_type": "stream",
     "text": [
      "temp in fahreheit is:  89.6\n"
     ]
    }
   ],
   "source": [
    "#program to convert celsius to fahrenheit\n",
    "temp=float(input(\"enter temp in celsius: \"))\n",
    "c=temp*9/5+32\n",
    "print(\"temp in fahreheit is: \", c)"
   ]
  },
  {
   "cell_type": "code",
   "execution_count": 4,
   "id": "e75f4f11-43fd-4193-98b7-6ca5314ccdc1",
   "metadata": {},
   "outputs": [
    {
     "name": "stdin",
     "output_type": "stream",
     "text": [
      "enter a value in km:  20\n"
     ]
    },
    {
     "name": "stdout",
     "output_type": "stream",
     "text": [
      "value in miles:  12.427\n"
     ]
    }
   ],
   "source": [
    "#program to convert kilo t miles\n",
    "kilo=float(input(\"enter a value in km: \"))\n",
    "c=kilo*0.62137\n",
    "print(\"value in miles: \",round(c,3))"
   ]
  },
  {
   "cell_type": "code",
   "execution_count": null,
   "id": "4bf7aea8-2f1a-4af1-8662-78846f4fc8b9",
   "metadata": {},
   "outputs": [],
   "source": []
  }
 ],
 "metadata": {
  "kernelspec": {
   "display_name": "Python 3 (ipykernel)",
   "language": "python",
   "name": "python3"
  },
  "language_info": {
   "codemirror_mode": {
    "name": "ipython",
    "version": 3
   },
   "file_extension": ".py",
   "mimetype": "text/x-python",
   "name": "python",
   "nbconvert_exporter": "python",
   "pygments_lexer": "ipython3",
   "version": "3.11.5"
  }
 },
 "nbformat": 4,
 "nbformat_minor": 5
}
