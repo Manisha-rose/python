{
 "cells": [
  {
   "cell_type": "code",
   "execution_count": 7,
   "id": "b83e6634-87e7-4b77-81bc-05e49b5b91f3",
   "metadata": {},
   "outputs": [
    {
     "name": "stdout",
     "output_type": "stream",
     "text": [
      "rograming\n"
     ]
    }
   ],
   "source": [
    "n=\"programing\"\n",
    "print(n[1:])"
   ]
  },
  {
   "cell_type": "code",
   "execution_count": 22,
   "id": "989485d9-bf21-4af8-928c-c828e8427a1f",
   "metadata": {},
   "outputs": [
    {
     "name": "stdout",
     "output_type": "stream",
     "text": [
      "brograming\n",
      "Brograming\n"
     ]
    }
   ],
   "source": [
    "n=\"brograming\"\n",
    "a=n.capitalize()\n",
    "print (n)\n",
    "print (a)"
   ]
  },
  {
   "cell_type": "code",
   "execution_count": 42,
   "id": "7aec5fd8-adc9-4636-9d0b-fd3350704f3b",
   "metadata": {},
   "outputs": [
    {
     "name": "stdin",
     "output_type": "stream",
     "text": [
      "enter a string: python\n"
     ]
    },
    {
     "name": "stdout",
     "output_type": "stream",
     "text": [
      "formated string is: nythop\n"
     ]
    }
   ],
   "source": [
    "#program to exchange two chars\n",
    "n=input(\"enter a string:\")\n",
    "a=n[0]\n",
    "b=n[-1]\n",
    "c=n[1:-1]\n",
    "print(\"formated string is:\",b+c+a)"
   ]
  },
  {
   "cell_type": "code",
   "execution_count": 69,
   "id": "d18182c8-0d39-4b1d-90df-b7e0ce255c0c",
   "metadata": {},
   "outputs": [
    {
     "name": "stdin",
     "output_type": "stream",
     "text": [
      "enter a string: python\n"
     ]
    },
    {
     "name": "stdout",
     "output_type": "stream",
     "text": [
      "formated string is:  pyon\n"
     ]
    }
   ],
   "source": [
    "#program to get first two and last 2 chars of a given string\n",
    "n=input(\"enter a string:\")\n",
    "a=n[0:2]\n",
    "b=n[-2:]\n",
    "print(\"formated string is: \",a+b)\n"
   ]
  },
  {
   "cell_type": "code",
   "execution_count": 6,
   "id": "8dca2f00-8d93-4212-8ee4-71c030ed8855",
   "metadata": {},
   "outputs": [
    {
     "name": "stdin",
     "output_type": "stream",
     "text": [
      "enter a string: python\n",
      "enter second string: swap\n"
     ]
    },
    {
     "name": "stdout",
     "output_type": "stream",
     "text": [
      "converted string is: swthon pyap\n"
     ]
    }
   ],
   "source": [
    "#program to get a single string from two strings\n",
    "n=input(\"enter a string:\")\n",
    "a=input(\"enter second string:\")\n",
    "newn=a[:2]+n[2:]\n",
    "newa=n[:2]+a[2:]\n",
    "print(\"converted string is:\",newn,newa)\n",
    "\n",
    "\n"
   ]
  },
  {
   "cell_type": "code",
   "execution_count": 8,
   "id": "6a35aede-a30e-421d-b986-6d2ddbc6f873",
   "metadata": {},
   "outputs": [
    {
     "name": "stdin",
     "output_type": "stream",
     "text": [
      "enter a string: onion\n"
     ]
    },
    {
     "name": "stdout",
     "output_type": "stream",
     "text": [
      "changed string is: oni$n\n"
     ]
    }
   ],
   "source": [
    "#program to get a string and change its first char to $, using replace()\n",
    "n=input(\"enter a string:\")\n",
    "c=n[0]\n",
    "newn=n.replace(c, \"$\")\n",
    "modified=c+newn[1:]\n",
    "print(\"changed string is:\",modified)\n"
   ]
  },
  {
   "cell_type": "code",
   "execution_count": null,
   "id": "29837086-7d35-4c4e-b216-523e49015c92",
   "metadata": {},
   "outputs": [],
   "source": []
  }
 ],
 "metadata": {
  "kernelspec": {
   "display_name": "Python 3 (ipykernel)",
   "language": "python",
   "name": "python3"
  },
  "language_info": {
   "codemirror_mode": {
    "name": "ipython",
    "version": 3
   },
   "file_extension": ".py",
   "mimetype": "text/x-python",
   "name": "python",
   "nbconvert_exporter": "python",
   "pygments_lexer": "ipython3",
   "version": "3.11.5"
  }
 },
 "nbformat": 4,
 "nbformat_minor": 5
}
