{
 "cells": [
  {
   "cell_type": "code",
   "execution_count": 8,
   "id": "95b4c654-5d8b-46a5-a132-793b29c20fdb",
   "metadata": {},
   "outputs": [
    {
     "name": "stdin",
     "output_type": "stream",
     "text": [
      "enter a num:  2\n"
     ]
    },
    {
     "name": "stdout",
     "output_type": "stream",
     "text": [
      "2 + 22 + 222 = 246\n"
     ]
    }
   ],
   "source": [
    "#program to accept an integer n and add n+nn+nnn\n",
    "n=int(input(\"enter a num: \"))\n",
    "nn=n*10+n\n",
    "nnn=n*100+n*10+n\n",
    "add=n+nn+nnn\n",
    "print( n, \"+\" ,nn, \"+\" ,nnn, \"=\", add)"
   ]
  },
  {
   "cell_type": "code",
   "execution_count": 14,
   "id": "3a296c8c-cfa6-484f-8900-ac251dab6e5e",
   "metadata": {},
   "outputs": [
    {
     "name": "stdin",
     "output_type": "stream",
     "text": [
      "enter a num:  2\n"
     ]
    },
    {
     "name": "stdout",
     "output_type": "stream",
     "text": [
      "area of the circle:  12.57\n"
     ]
    }
   ],
   "source": [
    "#program to compute area\n",
    "import math\n",
    "rad=float(input(\"enter a num: \"))\n",
    "area=(math.pi)*rad*rad\n",
    "print(\"area of the circle: \",round(area,2))\n"
   ]
  },
  {
   "cell_type": "code",
   "execution_count": null,
   "id": "2ff30896-3828-49ef-8ad8-3811bdacd592",
   "metadata": {},
   "outputs": [],
   "source": []
  }
 ],
 "metadata": {
  "kernelspec": {
   "display_name": "Python 3 (ipykernel)",
   "language": "python",
   "name": "python3"
  },
  "language_info": {
   "codemirror_mode": {
    "name": "ipython",
    "version": 3
   },
   "file_extension": ".py",
   "mimetype": "text/x-python",
   "name": "python",
   "nbconvert_exporter": "python",
   "pygments_lexer": "ipython3",
   "version": "3.11.5"
  }
 },
 "nbformat": 4,
 "nbformat_minor": 5
}
