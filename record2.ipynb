{
 "cells": [
  {
   "cell_type": "code",
   "execution_count": 2,
   "id": "b184542a-d68b-4295-91c5-213f1cf5b16d",
   "metadata": {},
   "outputs": [
    {
     "name": "stdin",
     "output_type": "stream",
     "text": [
      "enter temp in celsius:  32\n"
     ]
    },
    {
     "name": "stdout",
     "output_type": "stream",
     "text": [
      "32.0 celsius in fahrenheit is:  89.6\n"
     ]
    }
   ],
   "source": [
    "#program to convert celsius to fahrenheit\n",
    "temp=float(input(\"enter temp in celsius: \"))\n",
    "c=temp*9/5+32\n",
    "print(temp,\"celsius in fahrenheit is: \", c)"
   ]
  },
  {
   "cell_type": "code",
   "execution_count": 3,
   "id": "68edb0d6-98ea-4a03-aa88-c6166bb80e02",
   "metadata": {},
   "outputs": [
    {
     "name": "stdin",
     "output_type": "stream",
     "text": [
      "enter a value in km:  20\n"
     ]
    },
    {
     "name": "stdout",
     "output_type": "stream",
     "text": [
      "value in miles:  12.427\n"
     ]
    }
   ],
   "source": [
    "#program to convert kilo t miles\n",
    "kilo=float(input(\"enter a value in km: \"))\n",
    "c=kilo*0.62137\n",
    "print(\"value in miles: \",round(c,3))"
   ]
  },
  {
   "cell_type": "code",
   "execution_count": null,
   "id": "4b444221-885d-4bb3-8483-e08f43ee63b5",
   "metadata": {},
   "outputs": [],
   "source": []
  }
 ],
 "metadata": {
  "kernelspec": {
   "display_name": "Python 3 (ipykernel)",
   "language": "python",
   "name": "python3"
  },
  "language_info": {
   "codemirror_mode": {
    "name": "ipython",
    "version": 3
   },
   "file_extension": ".py",
   "mimetype": "text/x-python",
   "name": "python",
   "nbconvert_exporter": "python",
   "pygments_lexer": "ipython3",
   "version": "3.11.5"
  }
 },
 "nbformat": 4,
 "nbformat_minor": 5
}
